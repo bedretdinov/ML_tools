{
  "nbformat": 4,
  "nbformat_minor": 0,
  "metadata": {
    "colab": {
      "name": "Time_Series_Homework.ipynb",
      "provenance": [],
      "collapsed_sections": [],
      "include_colab_link": true
    },
    "kernelspec": {
      "name": "python3",
      "display_name": "Python 3"
    }
  },
  "cells": [
    {
      "cell_type": "markdown",
      "metadata": {
        "id": "view-in-github",
        "colab_type": "text"
      },
      "source": [
        "<a href=\"https://colab.research.google.com/github/bedretdinov/ML_tools/blob/master/Time_Series_Homework.ipynb\" target=\"_parent\"><img src=\"https://colab.research.google.com/assets/colab-badge.svg\" alt=\"Open In Colab\"/></a>"
      ]
    },
    {
      "cell_type": "markdown",
      "metadata": {
        "id": "hbf8UxqyDTrw",
        "colab_type": "text"
      },
      "source": [
        "## Применение сверточной сети для классификации активности человека\n",
        "\n",
        "Ссылка на полный датасет - https://archive.ics.uci.edu/ml/machine-learning-databases/00287/Activity%20Recognition%20from%20Single%20Chest-Mounted%20Accelerometer.zip\n",
        "Для данной работы будет использован предобработанный датасет, в котором сохранены три класса. Набор данных уже преобразован в 3-х мерный формат, необходимый для работы сети."
      ]
    },
    {
      "cell_type": "code",
      "metadata": {
        "id": "YUYHtO_7QmB4",
        "colab_type": "code",
        "outputId": "94a07f15-929b-41fc-e7f4-75fa5ae12586",
        "colab": {
          "base_uri": "https://localhost:8080/",
          "height": 129
        }
      },
      "source": [
        "#Монтируем Гугл-диск (перейдите по сгенерированной ссылке чтобы получить код активации и скопируйте его в форму)\n",
        "from google.colab import drive\n",
        "drive.mount('/content/gdrive')"
      ],
      "execution_count": 0,
      "outputs": [
        {
          "output_type": "stream",
          "text": [
            "Go to this URL in a browser: https://accounts.google.com/o/oauth2/auth?client_id=947318989803-6bn6qk8qdgf4n4g3pfee6491hc0brc4i.apps.googleusercontent.com&redirect_uri=urn%3Aietf%3Awg%3Aoauth%3A2.0%3Aoob&scope=email%20https%3A%2F%2Fwww.googleapis.com%2Fauth%2Fdocs.test%20https%3A%2F%2Fwww.googleapis.com%2Fauth%2Fdrive%20https%3A%2F%2Fwww.googleapis.com%2Fauth%2Fdrive.photos.readonly%20https%3A%2F%2Fwww.googleapis.com%2Fauth%2Fpeopleapi.readonly&response_type=code\n",
            "\n",
            "Enter your authorization code:\n",
            "··········\n",
            "Mounted at /content/gdrive\n"
          ],
          "name": "stdout"
        }
      ]
    },
    {
      "cell_type": "code",
      "metadata": {
        "id": "9shfJSRaQvQ_",
        "colab_type": "code",
        "colab": {}
      },
      "source": [
        "# Импорт необходимых библиотек\n",
        "import pandas as pd\n",
        "import numpy as np\n",
        "import matplotlib.pyplot as plt\n",
        "from sklearn.model_selection import train_test_split\n",
        "from sklearn.preprocessing import OneHotEncoder\n",
        "\n",
        "from tensorflow.keras.models import Model\n",
        "from tensorflow.keras import layers\n",
        "from tensorflow.keras import optimizers\n",
        "from tensorflow.keras import regularizers"
      ],
      "execution_count": 0,
      "outputs": []
    },
    {
      "cell_type": "code",
      "metadata": {
        "id": "bK-cmjQbRqP-",
        "colab_type": "code",
        "colab": {}
      },
      "source": [
        "# Загружаем данные\n",
        "# Данные содержат 2-х секундные показания (частота семплирования 52 Гц) акселерометра закрепленного на груди у человека.\n",
        "# 1, 2 и 3 признаки - это составляющие вектора ускорения вдоль осей x, y, z соответсвенно.\n",
        "# Датасет содержит измерения для 15 разных людей\n",
        "data = np.load('/content/gdrive/My Drive/Accelerometer_ext.npz')\n",
        "X = data['a'][:,:,:3]\n",
        "label = data['a'][:,-1,3]"
      ],
      "execution_count": 0,
      "outputs": []
    },
    {
      "cell_type": "code",
      "metadata": {
        "id": "1sy2LtKtSRzv",
        "colab_type": "code",
        "outputId": "359afc08-1020-43b9-8716-3e33c129fa66",
        "colab": {
          "base_uri": "https://localhost:8080/",
          "height": 35
        }
      },
      "source": [
        "X.shape"
      ],
      "execution_count": 0,
      "outputs": [
        {
          "output_type": "execute_result",
          "data": {
            "text/plain": [
              "(6435, 104, 3)"
            ]
          },
          "metadata": {
            "tags": []
          },
          "execution_count": 4
        }
      ]
    },
    {
      "cell_type": "code",
      "metadata": {
        "id": "9pgZ3hSbiaJG",
        "colab_type": "code",
        "outputId": "ec3bb9c5-652a-411d-e59d-e3dd0e4052c4",
        "colab": {
          "base_uri": "https://localhost:8080/",
          "height": 287
        }
      },
      "source": [
        "plt.plot(label)"
      ],
      "execution_count": 0,
      "outputs": [
        {
          "output_type": "execute_result",
          "data": {
            "text/plain": [
              "[<matplotlib.lines.Line2D at 0x7fe12c4a2278>]"
            ]
          },
          "metadata": {
            "tags": []
          },
          "execution_count": 25
        },
        {
          "output_type": "display_data",
          "data": {
            "image/png": "[encoded data removed]",
            "text/plain": [
              "<Figure size 432x288 with 1 Axes>"
            ]
          },
          "metadata": {
            "tags": []
          }
        }
      ]
    },
    {
      "cell_type": "code",
      "metadata": {
        "id": "2i3GJIIzV9J4",
        "colab_type": "code",
        "outputId": "f2678671-8976-4c70-ee00-0b0bae9d5387",
        "colab": {
          "base_uri": "https://localhost:8080/",
          "height": 35
        }
      },
      "source": [
        "label.shape"
      ],
      "execution_count": 0,
      "outputs": [
        {
          "output_type": "execute_result",
          "data": {
            "text/plain": [
              "(6435,)"
            ]
          },
          "metadata": {
            "tags": []
          },
          "execution_count": 5
        }
      ]
    },
    {
      "cell_type": "code",
      "metadata": {
        "id": "69p_VMpHWIfR",
        "colab_type": "code",
        "colab": {}
      },
      "source": [
        "# Разбиение на тестовую и обучающую выборки (random_state фиксирован для повторяемости результатов)\n",
        "X_train, X_test, y_train, y_test = train_test_split(X, label, test_size=0.2, random_state=999)"
      ],
      "execution_count": 0,
      "outputs": []
    },
    {
      "cell_type": "code",
      "metadata": {
        "id": "whUmecYpaE0q",
        "colab_type": "code",
        "colab": {}
      },
      "source": [
        "# One-Hot Encoding\n",
        "enc = OneHotEncoder(handle_unknown='ignore',sparse=False)\n",
        "y_train = enc.fit_transform(y_train.reshape(-1, 1))\n",
        "y_test = enc.transform(y_test.reshape(-1, 1))"
      ],
      "execution_count": 0,
      "outputs": []
    },
    {
      "cell_type": "code",
      "metadata": {
        "id": "_PN8BDJ_bVOm",
        "colab_type": "code",
        "colab": {}
      },
      "source": [
        "# Перекодируем категории в названия действий\n",
        "categories = ['Working at Computer', 'Walking', 'Talking while Standing']\n",
        "enc.categories_ = categories"
      ],
      "execution_count": 0,
      "outputs": []
    },
    {
      "cell_type": "code",
      "metadata": {
        "id": "TD-wxTBvcoME",
        "colab_type": "code",
        "colab": {}
      },
      "source": [
        "# Полезные константы\n",
        "lenght = X_train.shape[1]\n",
        "num_features = X_train.shape[2]\n",
        "num_classes = len(enc.categories_)\n",
        "nb_epochs = 50\n",
        "batch_size=256"
      ],
      "execution_count": 0,
      "outputs": []
    },
    {
      "cell_type": "code",
      "metadata": {
        "id": "-YFgFfLtdhPa",
        "colab_type": "code",
        "outputId": "a0f454ab-d2c5-4e75-c7aa-e81e1afef564",
        "colab": {
          "base_uri": "https://localhost:8080/",
          "height": 148
        }
      },
      "source": [
        "# Создаем сеть\n",
        "x = layers.Input((lenght, num_features))\n",
        "\n",
        "x1 = layers.BatchNormalization()(x)\n",
        "x1 = layers.SpatialDropout1D(0.1)(x1)\n",
        "conv1 = layers.Conv1D(32, 8, 2, padding='same')(x1)\n",
        "conv1 = layers.BatchNormalization()(conv1)\n",
        "conv1 = layers.Activation('relu')(conv1)\n",
        "    \n",
        "conv2 = layers.Conv1D(64, 5, 2, padding='same')(conv1)\n",
        "conv2 = layers.BatchNormalization()(conv2)\n",
        "conv2 = layers.Activation('relu')(conv2)\n",
        "    \n",
        "conv3 = layers.Conv1D(32, 3, 2, padding='same')(conv2)\n",
        "conv3 = layers.BatchNormalization()(conv3)\n",
        "conv3 = layers.Activation('relu')(conv3)\n",
        "    \n",
        "full = layers.GlobalAveragePooling1D()(conv3)    \n",
        "out = layers.Dense(num_classes, activation='softmax')(full)\n",
        "    \n",
        "    \n",
        "model = Model(inputs=x, outputs=out)\n",
        "     \n",
        "optimizer = optimizers.Adam(lr=0.0005)\n",
        "model.compile(loss='categorical_crossentropy', optimizer=optimizer,metrics=['accuracy'])"
      ],
      "execution_count": 0,
      "outputs": [
        {
          "output_type": "stream",
          "text": [
            "WARNING:tensorflow:From /usr/local/lib/python3.6/dist-packages/tensorflow/python/ops/resource_variable_ops.py:435: colocate_with (from tensorflow.python.framework.ops) is deprecated and will be removed in a future version.\n",
            "Instructions for updating:\n",
            "Colocations handled automatically by placer.\n",
            "WARNING:tensorflow:From /usr/local/lib/python3.6/dist-packages/tensorflow/python/keras/layers/core.py:143: calling dropout (from tensorflow.python.ops.nn_ops) with keep_prob is deprecated and will be removed in a future version.\n",
            "Instructions for updating:\n",
            "Please use `rate` instead of `keep_prob`. Rate should be set to `rate = 1 - keep_prob`.\n"
          ],
          "name": "stdout"
        }
      ]
    },
    {
      "cell_type": "code",
      "metadata": {
        "id": "W-KtRziOycLR",
        "colab_type": "code",
        "outputId": "77668510-45af-4414-9e93-a4a197bc69b1",
        "colab": {
          "base_uri": "https://localhost:8080/",
          "height": 662
        }
      },
      "source": [
        "model.summary()"
      ],
      "execution_count": 0,
      "outputs": [
        {
          "output_type": "stream",
          "text": [
            "_________________________________________________________________\n",
            "Layer (type)                 Output Shape              Param #   \n",
            "=================================================================\n",
            "input_1 (InputLayer)         (None, 104, 3)            0         \n",
            "_________________________________________________________________\n",
            "batch_normalization_v1 (Batc (None, 104, 3)            12        \n",
            "_________________________________________________________________\n",
            "spatial_dropout1d (SpatialDr (None, 104, 3)            0         \n",
            "_________________________________________________________________\n",
            "conv1d (Conv1D)              (None, 52, 32)            800       \n",
            "_________________________________________________________________\n",
            "batch_normalization_v1_1 (Ba (None, 52, 32)            128       \n",
            "_________________________________________________________________\n",
            "activation (Activation)      (None, 52, 32)            0         \n",
            "_________________________________________________________________\n",
            "conv1d_1 (Conv1D)            (None, 26, 64)            10304     \n",
            "_________________________________________________________________\n",
            "batch_normalization_v1_2 (Ba (None, 26, 64)            256       \n",
            "_________________________________________________________________\n",
            "activation_1 (Activation)    (None, 26, 64)            0         \n",
            "_________________________________________________________________\n",
            "conv1d_2 (Conv1D)            (None, 13, 32)            6176      \n",
            "_________________________________________________________________\n",
            "batch_normalization_v1_3 (Ba (None, 13, 32)            128       \n",
            "_________________________________________________________________\n",
            "activation_2 (Activation)    (None, 13, 32)            0         \n",
            "_________________________________________________________________\n",
            "global_average_pooling1d (Gl (None, 32)                0         \n",
            "_________________________________________________________________\n",
            "dense (Dense)                (None, 3)                 99        \n",
            "=================================================================\n",
            "Total params: 17,903\n",
            "Trainable params: 17,641\n",
            "Non-trainable params: 262\n",
            "_________________________________________________________________\n"
          ],
          "name": "stdout"
        }
      ]
    },
    {
      "cell_type": "code",
      "metadata": {
        "id": "eA4bZE1ojkVa",
        "colab_type": "code",
        "outputId": "eb60d2fd-a43d-4fcd-8a66-d23102c671bd",
        "colab": {
          "base_uri": "https://localhost:8080/",
          "height": 1954
        }
      },
      "source": [
        "# Обучаем. Данные шумные, так что метрика на валидации не сразу начнет улучшаться\n",
        "hist = model.fit(X_train, y_train, batch_size=batch_size, epochs=nb_epochs, verbose=1, validation_data=(X_test, y_test))"
      ],
      "execution_count": 0,
      "outputs": [
        {
          "output_type": "stream",
          "text": [
            "Train on 5148 samples, validate on 1287 samples\n",
            "WARNING:tensorflow:From /usr/local/lib/python3.6/dist-packages/tensorflow/python/ops/math_ops.py:3066: to_int32 (from tensorflow.python.ops.math_ops) is deprecated and will be removed in a future version.\n",
            "Instructions for updating:\n",
            "Use tf.cast instead.\n",
            "Epoch 1/50\n",
            "5148/5148 [==============================] - 2s 452us/sample - loss: 0.8331 - acc: 0.6142 - val_loss: 11.0460 - val_acc: 0.3147\n",
            "Epoch 2/50\n",
            "5148/5148 [==============================] - 1s 234us/sample - loss: 0.6025 - acc: 0.7706 - val_loss: 11.0460 - val_acc: 0.3147\n",
            "Epoch 3/50\n",
            "5148/5148 [==============================] - 1s 237us/sample - loss: 0.5389 - acc: 0.7949 - val_loss: 10.8059 - val_acc: 0.3147\n",
            "Epoch 4/50\n",
            "5148/5148 [==============================] - 1s 239us/sample - loss: 0.5231 - acc: 0.7993 - val_loss: 9.8766 - val_acc: 0.3147\n",
            "Epoch 5/50\n",
            "5148/5148 [==============================] - 1s 239us/sample - loss: 0.4878 - acc: 0.8114 - val_loss: 8.5604 - val_acc: 0.3147\n",
            "Epoch 6/50\n",
            "5148/5148 [==============================] - 1s 238us/sample - loss: 0.4778 - acc: 0.8141 - val_loss: 7.7962 - val_acc: 0.3147\n",
            "Epoch 7/50\n",
            "5148/5148 [==============================] - 1s 239us/sample - loss: 0.4688 - acc: 0.8215 - val_loss: 7.0461 - val_acc: 0.3147\n",
            "Epoch 8/50\n",
            "5148/5148 [==============================] - 1s 239us/sample - loss: 0.4456 - acc: 0.8302 - val_loss: 5.2287 - val_acc: 0.3147\n",
            "Epoch 9/50\n",
            "5148/5148 [==============================] - 1s 238us/sample - loss: 0.4399 - acc: 0.8302 - val_loss: 4.0769 - val_acc: 0.3108\n",
            "Epoch 10/50\n",
            "5148/5148 [==============================] - 1s 240us/sample - loss: 0.4263 - acc: 0.8401 - val_loss: 3.6791 - val_acc: 0.3092\n",
            "Epoch 11/50\n",
            "5148/5148 [==============================] - 1s 241us/sample - loss: 0.4130 - acc: 0.8436 - val_loss: 2.4681 - val_acc: 0.2991\n",
            "Epoch 12/50\n",
            "5148/5148 [==============================] - 1s 234us/sample - loss: 0.4234 - acc: 0.8395 - val_loss: 1.9884 - val_acc: 0.2984\n",
            "Epoch 13/50\n",
            "5148/5148 [==============================] - 1s 237us/sample - loss: 0.4035 - acc: 0.8522 - val_loss: 1.6650 - val_acc: 0.3349\n",
            "Epoch 14/50\n",
            "5148/5148 [==============================] - 1s 239us/sample - loss: 0.3981 - acc: 0.8475 - val_loss: 1.2845 - val_acc: 0.4219\n",
            "Epoch 15/50\n",
            "5148/5148 [==============================] - 1s 239us/sample - loss: 0.3893 - acc: 0.8531 - val_loss: 1.0810 - val_acc: 0.5097\n",
            "Epoch 16/50\n",
            "5148/5148 [==============================] - 1s 241us/sample - loss: 0.3792 - acc: 0.8531 - val_loss: 1.0548 - val_acc: 0.5548\n",
            "Epoch 17/50\n",
            "5148/5148 [==============================] - 1s 237us/sample - loss: 0.3807 - acc: 0.8497 - val_loss: 0.8053 - val_acc: 0.6340\n",
            "Epoch 18/50\n",
            "5148/5148 [==============================] - 1s 236us/sample - loss: 0.3794 - acc: 0.8617 - val_loss: 0.7191 - val_acc: 0.6799\n",
            "Epoch 19/50\n",
            "5148/5148 [==============================] - 1s 247us/sample - loss: 0.3693 - acc: 0.8553 - val_loss: 0.6789 - val_acc: 0.7257\n",
            "Epoch 20/50\n",
            "5148/5148 [==============================] - 1s 239us/sample - loss: 0.3720 - acc: 0.8555 - val_loss: 0.5317 - val_acc: 0.7778\n",
            "Epoch 21/50\n",
            "5148/5148 [==============================] - 1s 239us/sample - loss: 0.3667 - acc: 0.8596 - val_loss: 0.4616 - val_acc: 0.8190\n",
            "Epoch 22/50\n",
            "5148/5148 [==============================] - 1s 243us/sample - loss: 0.3580 - acc: 0.8654 - val_loss: 0.4243 - val_acc: 0.8329\n",
            "Epoch 23/50\n",
            "5148/5148 [==============================] - 1s 238us/sample - loss: 0.3479 - acc: 0.8724 - val_loss: 0.3867 - val_acc: 0.8640\n",
            "Epoch 24/50\n",
            "5148/5148 [==============================] - 1s 238us/sample - loss: 0.3604 - acc: 0.8599 - val_loss: 0.3833 - val_acc: 0.8648\n",
            "Epoch 25/50\n",
            "5148/5148 [==============================] - 1s 242us/sample - loss: 0.3581 - acc: 0.8685 - val_loss: 0.3580 - val_acc: 0.8702\n",
            "Epoch 26/50\n",
            "5148/5148 [==============================] - 1s 243us/sample - loss: 0.3401 - acc: 0.8755 - val_loss: 0.3464 - val_acc: 0.8819\n",
            "Epoch 27/50\n",
            "5148/5148 [==============================] - 1s 246us/sample - loss: 0.3380 - acc: 0.8735 - val_loss: 0.3344 - val_acc: 0.8866\n",
            "Epoch 28/50\n",
            "5148/5148 [==============================] - 1s 239us/sample - loss: 0.3372 - acc: 0.8757 - val_loss: 0.3234 - val_acc: 0.8873\n",
            "Epoch 29/50\n",
            "5148/5148 [==============================] - 1s 240us/sample - loss: 0.3335 - acc: 0.8716 - val_loss: 0.3631 - val_acc: 0.8718\n",
            "Epoch 30/50\n",
            "5148/5148 [==============================] - 1s 239us/sample - loss: 0.3390 - acc: 0.8726 - val_loss: 0.3192 - val_acc: 0.8866\n",
            "Epoch 31/50\n",
            "5148/5148 [==============================] - 1s 242us/sample - loss: 0.3218 - acc: 0.8786 - val_loss: 0.2956 - val_acc: 0.8943\n",
            "Epoch 32/50\n",
            "5148/5148 [==============================] - 1s 241us/sample - loss: 0.3236 - acc: 0.8786 - val_loss: 0.2895 - val_acc: 0.9114\n",
            "Epoch 33/50\n",
            "5148/5148 [==============================] - 1s 239us/sample - loss: 0.3180 - acc: 0.8768 - val_loss: 0.2864 - val_acc: 0.9068\n",
            "Epoch 34/50\n",
            "5148/5148 [==============================] - 1s 242us/sample - loss: 0.3233 - acc: 0.8770 - val_loss: 0.3005 - val_acc: 0.8974\n",
            "Epoch 35/50\n",
            "5148/5148 [==============================] - 1s 241us/sample - loss: 0.3249 - acc: 0.8786 - val_loss: 0.2951 - val_acc: 0.9044\n",
            "Epoch 36/50\n",
            "5148/5148 [==============================] - 1s 245us/sample - loss: 0.3248 - acc: 0.8786 - val_loss: 0.2778 - val_acc: 0.9114\n",
            "Epoch 37/50\n",
            "5148/5148 [==============================] - 1s 240us/sample - loss: 0.3033 - acc: 0.8891 - val_loss: 0.2859 - val_acc: 0.9052\n",
            "Epoch 38/50\n",
            "5148/5148 [==============================] - 1s 244us/sample - loss: 0.3063 - acc: 0.8838 - val_loss: 0.2952 - val_acc: 0.9169\n",
            "Epoch 39/50\n",
            "5148/5148 [==============================] - 1s 245us/sample - loss: 0.3063 - acc: 0.8848 - val_loss: 0.2882 - val_acc: 0.9091\n",
            "Epoch 40/50\n",
            "5148/5148 [==============================] - 1s 243us/sample - loss: 0.3162 - acc: 0.8833 - val_loss: 0.3028 - val_acc: 0.9013\n",
            "Epoch 41/50\n",
            "5148/5148 [==============================] - 1s 238us/sample - loss: 0.3103 - acc: 0.8852 - val_loss: 0.2918 - val_acc: 0.9037\n",
            "Epoch 42/50\n",
            "5148/5148 [==============================] - 1s 241us/sample - loss: 0.3134 - acc: 0.8772 - val_loss: 0.2708 - val_acc: 0.9223\n",
            "Epoch 43/50\n",
            "5148/5148 [==============================] - 1s 245us/sample - loss: 0.3010 - acc: 0.8842 - val_loss: 0.2803 - val_acc: 0.9021\n",
            "Epoch 44/50\n",
            "5148/5148 [==============================] - 1s 242us/sample - loss: 0.3008 - acc: 0.8871 - val_loss: 0.3003 - val_acc: 0.8943\n",
            "Epoch 45/50\n",
            "5148/5148 [==============================] - 1s 248us/sample - loss: 0.3063 - acc: 0.8811 - val_loss: 0.2944 - val_acc: 0.8990\n",
            "Epoch 46/50\n",
            "5148/5148 [==============================] - 1s 245us/sample - loss: 0.2891 - acc: 0.8928 - val_loss: 0.2883 - val_acc: 0.9044\n",
            "Epoch 47/50\n",
            "5148/5148 [==============================] - 1s 245us/sample - loss: 0.2958 - acc: 0.8866 - val_loss: 0.2709 - val_acc: 0.9122\n",
            "Epoch 48/50\n",
            "5148/5148 [==============================] - 1s 242us/sample - loss: 0.2960 - acc: 0.8877 - val_loss: 0.2737 - val_acc: 0.9099\n",
            "Epoch 49/50\n",
            "5148/5148 [==============================] - 1s 243us/sample - loss: 0.2982 - acc: 0.8860 - val_loss: 0.2967 - val_acc: 0.8998\n",
            "Epoch 50/50\n",
            "5148/5148 [==============================] - 1s 242us/sample - loss: 0.3019 - acc: 0.8901 - val_loss: 0.2798 - val_acc: 0.9091\n"
          ],
          "name": "stdout"
        }
      ]
    },
    {
      "cell_type": "markdown",
      "metadata": {
        "id": "Ah7dy1kFL2H9",
        "colab_type": "text"
      },
      "source": [
        "# Домашнее задание\n",
        "\n",
        "\n",
        "**Задание Light**\n",
        "\n",
        "Оптимизировать предложенную в шаблоне архитектуру сети изменяя:\n",
        "1) Количество фильтров в сверточных слоях\n",
        "2) Добавляя дропаут после сверточных слоев и подбирая его процент\n",
        "3) Активации нейронов\n",
        "4) Оптимизатор и его параметры\n",
        "5) Stride в свертках\n",
        "Опционально: Реализовать MLP или ResNet архитектуру из лекции для решения этой задачи.\n",
        "\n",
        "**Задание Pro**\n",
        "На выбор:\n",
        "- Преобразовать одномерный ряд в изображение одним из методов, описанном в лекции и решить задачу классификации при помощи двумерной светрочной сети (LeNet);\n",
        "- Датасет отсортирован, то есть данные от разных людей не перемешаны, а идут друг за другом.\n",
        "Можно разделить набор данных на 15 равных частей по 429 наблюдений в каждом. И разметить их от 1 до 15. По этим новым данным построить модель, которая будет классифицировать не виды активности, а людей.\n",
        "- Создать модель на произвольных данных. Данные можно взять с Kaggle (https://www.kaggle.com/datasets?sortBy=hottest&group=public&page=1&pageSize=20&size=all&filetype=all&license=all&tagids=6618) (фильтровать по тэгу Time Series) или в репозитории UCI (https://archive.ics.uci.edu/ml/datasets.php) (в меню слева выбрать Time Series)"
      ]
    }
  ]
}